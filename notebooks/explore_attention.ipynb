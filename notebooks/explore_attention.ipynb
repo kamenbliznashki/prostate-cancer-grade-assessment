{
 "cells": [
  {
   "cell_type": "code",
   "execution_count": 94,
   "metadata": {},
   "outputs": [],
   "source": [
    "import torch\n",
    "import torch.nn as nn\n",
    "import torch.nn.functional as F\n",
    "import numpy as np"
   ]
  },
  {
   "cell_type": "markdown",
   "metadata": {},
   "source": [
    "## nn.MultiheadAttention vs manual"
   ]
  },
  {
   "cell_type": "markdown",
   "metadata": {},
   "source": [
    "#### nn.MultiheadAttention"
   ]
  },
  {
   "cell_type": "code",
   "execution_count": 217,
   "metadata": {},
   "outputs": [],
   "source": [
    "mha = nn.MultiheadAttention(embed_dim=2, num_heads=1, bias=False, kdim=3, vdim=3)"
   ]
  },
  {
   "cell_type": "code",
   "execution_count": 218,
   "metadata": {},
   "outputs": [
    {
     "name": "stdout",
     "output_type": "stream",
     "text": [
      "torch.Size([2, 2])\n",
      "torch.Size([2, 3])\n",
      "torch.Size([2, 3])\n",
      "torch.Size([2, 2])\n"
     ]
    }
   ],
   "source": [
    "for p in mha.parameters(): print(p.shape)"
   ]
  },
  {
   "cell_type": "code",
   "execution_count": 219,
   "metadata": {},
   "outputs": [],
   "source": [
    "q_proj_w = mha.q_proj_weight\n",
    "k_proj_w = mha.k_proj_weight\n",
    "v_proj_w = mha.v_proj_weight\n",
    "out_proj_w = mha.out_proj.weight"
   ]
  },
  {
   "cell_type": "code",
   "execution_count": 220,
   "metadata": {},
   "outputs": [],
   "source": [
    "q = torch.rand(5,3,2)  # (seq len, batch len, embed dim)\n",
    "k = torch.rand(6,3,3)\n",
    "v = torch.rand(6,3,3)"
   ]
  },
  {
   "cell_type": "code",
   "execution_count": 221,
   "metadata": {},
   "outputs": [],
   "source": [
    "attn_out, attn_wts = mha(q, k, v)"
   ]
  },
  {
   "cell_type": "code",
   "execution_count": 222,
   "metadata": {},
   "outputs": [
    {
     "name": "stdout",
     "output_type": "stream",
     "text": [
      "torch.Size([5, 3, 2])\n",
      "torch.Size([3, 5, 6])\n"
     ]
    }
   ],
   "source": [
    "print(attn_out.shape)\n",
    "print(attn_wts.shape)"
   ]
  },
  {
   "cell_type": "markdown",
   "metadata": {},
   "source": [
    "#### Manual"
   ]
  },
  {
   "cell_type": "code",
   "execution_count": 223,
   "metadata": {},
   "outputs": [
    {
     "name": "stdout",
     "output_type": "stream",
     "text": [
      "torch.Size([5, 3, 2])\n",
      "torch.Size([6, 3, 2])\n",
      "torch.Size([6, 3, 2])\n"
     ]
    }
   ],
   "source": [
    "proj_q = q @ q_proj_w.t()\n",
    "proj_k = k @ k_proj_w.t()\n",
    "proj_v = v @ v_proj_w.t()\n",
    "print(proj_q.shape)\n",
    "print(proj_k.shape)\n",
    "print(proj_v.shape)"
   ]
  },
  {
   "cell_type": "code",
   "execution_count": 230,
   "metadata": {},
   "outputs": [
    {
     "name": "stdout",
     "output_type": "stream",
     "text": [
      "torch.Size([3, 5, 6])\n"
     ]
    }
   ],
   "source": [
    "logits = torch.bmm(proj_q.transpose(0,1), proj_k.permute(1,2,0)) # q (L,B,E)->(B,L,E) @ k (S,B,E)->(B,E,S) = w (B,L,S)\n",
    "weights = F.softmax(logits / np.sqrt(2), dim=2)\n",
    "print(weights.shape)"
   ]
  },
  {
   "cell_type": "code",
   "execution_count": 231,
   "metadata": {},
   "outputs": [
    {
     "data": {
      "text/plain": [
       "True"
      ]
     },
     "execution_count": 231,
     "metadata": {},
     "output_type": "execute_result"
    }
   ],
   "source": [
    "torch.allclose(weights, attn_wts)"
   ]
  },
  {
   "cell_type": "code",
   "execution_count": 226,
   "metadata": {},
   "outputs": [
    {
     "name": "stdout",
     "output_type": "stream",
     "text": [
      "torch.Size([5, 3, 2])\n"
     ]
    }
   ],
   "source": [
    "out = torch.bmm(weights, proj_v.transpose(0,1)) # w (B,L,S) @ v (S,B,E)->(B,S,E) = out (B,L,E)\n",
    "out = out.transpose(0,1)  # out (L,B,E)\n",
    "out = F.linear(out, out_proj_w)\n",
    "print(out.shape)"
   ]
  },
  {
   "cell_type": "code",
   "execution_count": 227,
   "metadata": {},
   "outputs": [
    {
     "data": {
      "text/plain": [
       "True"
      ]
     },
     "execution_count": 227,
     "metadata": {},
     "output_type": "execute_result"
    }
   ],
   "source": [
    "torch.allclose(out, attn_out)"
   ]
  }
 ],
 "metadata": {
  "kernelspec": {
   "display_name": "Python 3",
   "language": "python",
   "name": "python3"
  },
  "language_info": {
   "codemirror_mode": {
    "name": "ipython",
    "version": 3
   },
   "file_extension": ".py",
   "mimetype": "text/x-python",
   "name": "python",
   "nbconvert_exporter": "python",
   "pygments_lexer": "ipython3",
   "version": "3.8.3"
  }
 },
 "nbformat": 4,
 "nbformat_minor": 4
}

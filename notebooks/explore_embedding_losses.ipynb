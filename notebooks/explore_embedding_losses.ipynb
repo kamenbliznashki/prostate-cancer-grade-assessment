{
 "cells": [
  {
   "cell_type": "code",
   "execution_count": 1,
   "metadata": {},
   "outputs": [],
   "source": [
    "import numpy as np\n",
    "import torch\n",
    "import torch.nn as nn\n",
    "import torch.nn.functional as F"
   ]
  },
  {
   "cell_type": "code",
   "execution_count": 21,
   "metadata": {},
   "outputs": [
    {
     "data": {
      "text/plain": [
       "tensor([[0.0417, 0.8189],\n",
       "        [0.0397, 0.6720],\n",
       "        [0.4841, 0.6323],\n",
       "        [1.7131, 1.6262],\n",
       "        [1.2009, 1.8970]])"
      ]
     },
     "execution_count": 21,
     "metadata": {},
     "output_type": "execute_result"
    }
   ],
   "source": [
    "x = torch.rand(5,2)\n",
    "x[3:] += 1\n",
    "x"
   ]
  },
  {
   "cell_type": "code",
   "execution_count": 25,
   "metadata": {},
   "outputs": [
    {
     "data": {
      "text/plain": [
       "tensor([1, 1, 1, 0, 1])"
      ]
     },
     "execution_count": 25,
     "metadata": {},
     "output_type": "execute_result"
    }
   ],
   "source": [
    "preds = x.argmax(1)\n",
    "preds"
   ]
  },
  {
   "cell_type": "code",
   "execution_count": 40,
   "metadata": {},
   "outputs": [
    {
     "name": "stdout",
     "output_type": "stream",
     "text": [
      "tensor([1, 1, 1, 0, 1])\n",
      "tensor([1, 1, 1, 0, 1])\n",
      "tensor([0, 0, 0, 1, 0])\n",
      "tensor([0, 0, 0, 1, 1])\n",
      "tensor([0, 0, 0, 0, 1])\n"
     ]
    }
   ],
   "source": [
    "y_eq_preds = preds.clone()\n",
    "y_neq_preds = 1 - preds.clone()\n",
    "y_overlap1_preds = torch.tensor([0,0,0,1,1])\n",
    "y_overlap2_preds = torch.tensor([0,0,0,0,1])\n",
    "print(preds)\n",
    "print(y_eq_preds)\n",
    "print(y_neq_preds)\n",
    "print(y_overlap1_preds)\n",
    "print(y_overlap2_preds)"
   ]
  },
  {
   "cell_type": "code",
   "execution_count": 41,
   "metadata": {},
   "outputs": [],
   "source": [
    "make_sim_labels = lambda y: (preds == y).long() * 2 - 1"
   ]
  },
  {
   "cell_type": "markdown",
   "metadata": {},
   "source": [
    "### Cosine embedding loss against the mean embedding for the class"
   ]
  },
  {
   "cell_type": "code",
   "execution_count": 27,
   "metadata": {},
   "outputs": [
    {
     "data": {
      "text/plain": [
       "tensor([[0.1885, 0.7077],\n",
       "        [1.4570, 1.7616]])"
      ]
     },
     "execution_count": 27,
     "metadata": {},
     "output_type": "execute_result"
    }
   ],
   "source": [
    "mean_x_by_class = torch.stack([x[y==i].mean(0) for i in y.unique()])\n",
    "mean_x_by_class"
   ]
  },
  {
   "cell_type": "code",
   "execution_count": 28,
   "metadata": {},
   "outputs": [
    {
     "name": "stdout",
     "output_type": "stream",
     "text": [
      "tensor([[1.4570, 1.7616],\n",
      "        [1.4570, 1.7616],\n",
      "        [1.4570, 1.7616],\n",
      "        [0.1885, 0.7077],\n",
      "        [1.4570, 1.7616]])\n",
      "tensor([[0.1885, 0.7077],\n",
      "        [0.1885, 0.7077],\n",
      "        [0.1885, 0.7077],\n",
      "        [1.4570, 1.7616],\n",
      "        [1.4570, 1.7616]])\n"
     ]
    }
   ],
   "source": [
    "pred_embeddings = mean_x_by_class.index_select(0, preds)\n",
    "y_embeddings = mean_x_by_class.index_select(0, y)\n",
    "print(pred_embeddings)\n",
    "print(y_embeddings)"
   ]
  },
  {
   "cell_type": "code",
   "execution_count": 62,
   "metadata": {},
   "outputs": [
    {
     "name": "stdout",
     "output_type": "stream",
     "text": [
      "tensor([0.1980, 0.1931, 0.0007, 0.1480, 0.0080])\n",
      "tensor([0.9782, 0.9798, 0.9237, 0.9928, 0.9541])\n",
      "tensor([0.9782, 0.9798, 0.9237, 0.9928, 0.0080])\n",
      "tensor([0.9782, 0.9798, 0.9237, 0.1480, 0.0080])\n"
     ]
    }
   ],
   "source": [
    "# actual embeddings vs mean embeddings by class (where true labels have different degree of overlap with the predictions)\n",
    "for y_ in [y_eq_preds, y_neq_preds, y_overlap1_preds, y_overlap2_preds]:\n",
    "    print(F.cosine_embedding_loss(x, mean_x_by_class.index_select(0, y_), make_sim_labels(y_), reduction='none'))"
   ]
  },
  {
   "cell_type": "code",
   "execution_count": 63,
   "metadata": {},
   "outputs": [
    {
     "name": "stdout",
     "output_type": "stream",
     "text": [
      "tensor([0., 0., 0., 0., 0.])\n",
      "tensor([0.9087, 0.9087, 0.9087, 0.9087, 0.9087])\n",
      "tensor([0.9087, 0.9087, 0.9087, 0.9087, 0.0000])\n",
      "tensor([0.9087, 0.9087, 0.9087, 0.0000, 0.0000])\n"
     ]
    }
   ],
   "source": [
    "# pred_embeddings vs mean embeddings by class\n",
    "for y_ in [y_eq_preds, y_neq_preds, y_overlap1_preds, y_overlap2_preds]:\n",
    "    print(F.cosine_embedding_loss(pred_embeddings, mean_x_by_class.index_select(0, y_), make_sim_labels(y_), reduction='none'))"
   ]
  },
  {
   "cell_type": "code",
   "execution_count": 67,
   "metadata": {},
   "outputs": [
    {
     "data": {
      "text/plain": [
       "tensor(2.7260)"
      ]
     },
     "execution_count": 67,
     "metadata": {},
     "output_type": "execute_result"
    }
   ],
   "source": [
    "F.cosine_embedding_loss(pred_embeddings, mean_x_by_class.index_select(0, y_), make_sim_labels(y_), reduction='sum')"
   ]
  },
  {
   "cell_type": "markdown",
   "metadata": {},
   "source": [
    "### Hinge embedding loss"
   ]
  },
  {
   "cell_type": "code",
   "execution_count": 61,
   "metadata": {},
   "outputs": [
    {
     "name": "stdout",
     "output_type": "stream",
     "text": [
      "tensor(1.4097)\n",
      "tensor(0.6136)\n",
      "tensor(0.6716)\n",
      "tensor(0.8855)\n"
     ]
    }
   ],
   "source": [
    "# actual embeddings vs mean embeddings by class\n",
    "for y_ in [y_eq_preds, y_neq_preds, y_overlap1_preds, y_overlap2_preds]:\n",
    "    print(F.hinge_embedding_loss((x - mean_x_by_class.index_select(0, y_)).norm(2, dim=1), make_sim_labels(y_), reduction='mean'))"
   ]
  },
  {
   "cell_type": "code",
   "execution_count": 55,
   "metadata": {},
   "outputs": [
    {
     "data": {
      "text/plain": [
       "tensor([0.1841, 0.1530, 0.3050, 1.7799, 0.2897])"
      ]
     },
     "execution_count": 55,
     "metadata": {},
     "output_type": "execute_result"
    }
   ],
   "source": [
    "(x - mean_x_by_class.index_select(0, y_)).norm(2, dim=1)"
   ]
  },
  {
   "cell_type": "code",
   "execution_count": 50,
   "metadata": {},
   "outputs": [
    {
     "data": {
      "text/plain": [
       "tensor([-1, -1, -1,  1,  1])"
      ]
     },
     "execution_count": 50,
     "metadata": {},
     "output_type": "execute_result"
    }
   ],
   "source": [
    "make_sim_labels(y_)"
   ]
  },
  {
   "cell_type": "code",
   "execution_count": null,
   "metadata": {},
   "outputs": [],
   "source": []
  }
 ],
 "metadata": {
  "kernelspec": {
   "display_name": "Python 3",
   "language": "python",
   "name": "python3"
  },
  "language_info": {
   "codemirror_mode": {
    "name": "ipython",
    "version": 3
   },
   "file_extension": ".py",
   "mimetype": "text/x-python",
   "name": "python",
   "nbconvert_exporter": "python",
   "pygments_lexer": "ipython3",
   "version": "3.8.3"
  }
 },
 "nbformat": 4,
 "nbformat_minor": 4
}

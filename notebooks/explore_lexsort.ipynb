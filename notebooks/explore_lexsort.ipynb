{
 "cells": [
  {
   "cell_type": "code",
   "execution_count": 32,
   "metadata": {},
   "outputs": [],
   "source": [
    "import numpy as np"
   ]
  },
  {
   "cell_type": "code",
   "execution_count": 33,
   "metadata": {},
   "outputs": [],
   "source": [
    "np.random.seed(0)\n",
    "np.set_printoptions(linewidth=120)"
   ]
  },
  {
   "cell_type": "markdown",
   "metadata": {},
   "source": [
    "### Lexsort in 1d"
   ]
  },
  {
   "cell_type": "code",
   "execution_count": 34,
   "metadata": {},
   "outputs": [
    {
     "name": "stdout",
     "output_type": "stream",
     "text": [
      "[0.5488135  0.71518937 0.60276338 0.54488318 0.4236548  0.64589411 0.43758721]\n"
     ]
    }
   ],
   "source": [
    "groups = np.array([0,0,1,1,1,2,2])\n",
    "probs = np.random.rand(len(groups))\n",
    "print(probs)"
   ]
  },
  {
   "cell_type": "code",
   "execution_count": 35,
   "metadata": {},
   "outputs": [
    {
     "name": "stdout",
     "output_type": "stream",
     "text": [
      "[0 1 4 3 2 6 5]\n"
     ]
    }
   ],
   "source": [
    "order = np.lexsort((probs, groups))\n",
    "print(order)"
   ]
  },
  {
   "cell_type": "code",
   "execution_count": 36,
   "metadata": {},
   "outputs": [
    {
     "name": "stdout",
     "output_type": "stream",
     "text": [
      "[0 0 1 1 1 2 2]\n",
      "[0.5488135  0.71518937 0.4236548  0.54488318 0.60276338 0.43758721 0.64589411]\n"
     ]
    }
   ],
   "source": [
    "groups_ordered = groups[order]\n",
    "probs_ordered  = probs[order]\n",
    "print(groups_ordered)\n",
    "print(probs_ordered)"
   ]
  },
  {
   "cell_type": "code",
   "execution_count": 37,
   "metadata": {},
   "outputs": [
    {
     "name": "stdout",
     "output_type": "stream",
     "text": [
      "[False  True False False  True False  True]\n"
     ]
    }
   ],
   "source": [
    "k = 1\n",
    "index = np.empty(len(groups), 'bool')\n",
    "index[-k:] = True\n",
    "index[:-k] = groups[k:] != groups[:-k]\n",
    "print(index)"
   ]
  },
  {
   "cell_type": "code",
   "execution_count": 38,
   "metadata": {},
   "outputs": [
    {
     "name": "stdout",
     "output_type": "stream",
     "text": [
      "[1 2 5]\n",
      "[0.71518937 0.60276338 0.64589411]\n"
     ]
    }
   ],
   "source": [
    "# topk (highest prob) indices of groups\n",
    "print(order[index])\n",
    "print(probs[order[index]])"
   ]
  },
  {
   "cell_type": "markdown",
   "metadata": {},
   "source": [
    "### Lexsort in 2d"
   ]
  },
  {
   "cell_type": "code",
   "execution_count": 39,
   "metadata": {},
   "outputs": [
    {
     "name": "stdout",
     "output_type": "stream",
     "text": [
      "[[0.481 0.519]\n",
      " [0.326 0.674]\n",
      " [0.482 0.518]\n",
      " [0.929 0.071]\n",
      " [0.812 0.188]\n",
      " [0.517 0.483]\n",
      " [0.471 0.529]]\n"
     ]
    }
   ],
   "source": [
    "probs = np.random.rand(len(groups), 2)\n",
    "probs /= probs.sum(1, keepdims=True)\n",
    "print(probs.round(3))"
   ]
  },
  {
   "cell_type": "markdown",
   "metadata": {},
   "source": [
    "Notice in last group probs are: <br>\n",
    "0.517, 0.483 <br>\n",
    "0.471, 0.529 <br>\n",
    "First element predicts class 0 with prob 0.517, second element predicts class 1 with prob 0.529. <br>\n",
    "Since the second element prob > the first element prob (0.529 > 0.517), we want the prediction over the group to be for class 1 and not class 0."
   ]
  },
  {
   "cell_type": "code",
   "execution_count": 40,
   "metadata": {},
   "outputs": [
    {
     "name": "stdout",
     "output_type": "stream",
     "text": [
      "[1 1 1 0 0 0 1]\n",
      "[0.519 0.674 0.518 0.929 0.812 0.517 0.529]\n"
     ]
    }
   ],
   "source": [
    "# class of highest prob\n",
    "print(np.argmax(probs, axis=1))\n",
    "# highest prob across classes\n",
    "max_probs = np.max(probs, axis=1)\n",
    "print(max_probs.round(3))"
   ]
  },
  {
   "cell_type": "code",
   "execution_count": 41,
   "metadata": {},
   "outputs": [
    {
     "name": "stdout",
     "output_type": "stream",
     "text": [
      "[0 1 2 4 3 5 6]\n"
     ]
    }
   ],
   "source": [
    "order = np.lexsort((max_probs, groups))\n",
    "print(order)"
   ]
  },
  {
   "cell_type": "code",
   "execution_count": 42,
   "metadata": {},
   "outputs": [
    {
     "name": "stdout",
     "output_type": "stream",
     "text": [
      "[0 0 1 1 1 2 2]\n",
      "[[0.481 0.519]\n",
      " [0.326 0.674]\n",
      " [0.482 0.518]\n",
      " [0.812 0.188]\n",
      " [0.929 0.071]\n",
      " [0.517 0.483]\n",
      " [0.471 0.529]]\n",
      "[1 1 1 0 0 0 1]\n"
     ]
    }
   ],
   "source": [
    "groups_ordered = groups[order]\n",
    "probs_ordered  = probs[order]\n",
    "print(groups_ordered)\n",
    "print(probs_ordered.round(3))\n",
    "print(np.argmax(probs_ordered, axis=1))"
   ]
  },
  {
   "cell_type": "code",
   "execution_count": 43,
   "metadata": {},
   "outputs": [
    {
     "name": "stdout",
     "output_type": "stream",
     "text": [
      "[False  True False False  True False  True]\n"
     ]
    }
   ],
   "source": [
    "k = 1\n",
    "index = np.empty(len(groups), 'bool')\n",
    "index[-k:] = True\n",
    "index[:-k] = groups[k:] != groups[:-k]\n",
    "print(index)"
   ]
  },
  {
   "cell_type": "code",
   "execution_count": 44,
   "metadata": {},
   "outputs": [
    {
     "name": "stdout",
     "output_type": "stream",
     "text": [
      "topk indices within groups:  [1 3 6]\n",
      "probs under topk elements:\n",
      " [[0.326 0.674]\n",
      " [0.929 0.071]\n",
      " [0.471 0.529]]\n",
      "class predictions of topk element under each group:  [1 0 1]\n"
     ]
    }
   ],
   "source": [
    "# topk (highest prob) indices of groups\n",
    "print('topk indices within groups: ', order[index])\n",
    "print('probs under topk elements:\\n', probs[order[index]].round(3))\n",
    "print('class predictions of topk element under each group: ', np.argmax(probs[order[index]], axis=1))"
   ]
  },
  {
   "cell_type": "markdown",
   "metadata": {},
   "source": [
    "Notice under group 2, the correct class 1 is predicted with prob 0.529"
   ]
  },
  {
   "cell_type": "markdown",
   "metadata": {},
   "source": [
    "### Lexsort over 3 elements"
   ]
  },
  {
   "cell_type": "code",
   "execution_count": 45,
   "metadata": {},
   "outputs": [
    {
     "name": "stdout",
     "output_type": "stream",
     "text": [
      "[[0.392 0.226 0.382]\n",
      " [0.131 0.71  0.159]\n",
      " [0.502 0.277 0.22 ]\n",
      " [0.177 0.518 0.305]\n",
      " [0.472 0.016 0.513]\n",
      " [0.282 0.284 0.434]\n",
      " [0.461 0.243 0.296]]\n"
     ]
    }
   ],
   "source": [
    "probs = np.random.rand(len(groups), 3)\n",
    "probs /= probs.sum(1, keepdims=True)\n",
    "print(probs.round(3))"
   ]
  },
  {
   "cell_type": "code",
   "execution_count": 46,
   "metadata": {},
   "outputs": [
    {
     "name": "stdout",
     "output_type": "stream",
     "text": [
      "class of highest prob:  [0 1 0 1 2 2 0]\n",
      "highest prob across classes:  [0.392 0.71  0.502 0.518 0.513 0.434 0.461]\n"
     ]
    }
   ],
   "source": [
    "# class of highest prob\n",
    "print('class of highest prob: ', np.argmax(probs, axis=1))\n",
    "# highest prob across classes\n",
    "max_probs = np.max(probs, axis=1)\n",
    "print('highest prob across classes: ', max_probs.round(3))"
   ]
  },
  {
   "cell_type": "code",
   "execution_count": 47,
   "metadata": {},
   "outputs": [
    {
     "name": "stdout",
     "output_type": "stream",
     "text": [
      "[0 1 2 4 3 5 6]\n"
     ]
    }
   ],
   "source": [
    "order = np.lexsort((max_probs, groups))\n",
    "print(order)"
   ]
  },
  {
   "cell_type": "code",
   "execution_count": 48,
   "metadata": {},
   "outputs": [
    {
     "name": "stdout",
     "output_type": "stream",
     "text": [
      "[False  True False False  True False  True]\n"
     ]
    }
   ],
   "source": [
    "k = 1\n",
    "index = np.empty(len(groups), 'bool')\n",
    "index[-k:] = True\n",
    "index[:-k] = groups[k:] != groups[:-k]\n",
    "print(index)"
   ]
  },
  {
   "cell_type": "code",
   "execution_count": 49,
   "metadata": {},
   "outputs": [
    {
     "name": "stdout",
     "output_type": "stream",
     "text": [
      "topk indices within groups:  [1 3 6]\n",
      "probs under topk elements:\n",
      " [[0.131 0.71  0.159]\n",
      " [0.177 0.518 0.305]\n",
      " [0.461 0.243 0.296]]\n",
      "class predictions of topk element under each group:  [1 1 0]\n"
     ]
    }
   ],
   "source": [
    "# topk (highest prob) indices of groups\n",
    "print('topk indices within groups: ', order[index])\n",
    "print('probs under topk elements:\\n', probs[order[index]].round(3))\n",
    "print('class predictions of topk element under each group: ', np.argmax(probs[order[index]], axis=1))"
   ]
  },
  {
   "cell_type": "markdown",
   "metadata": {},
   "source": [
    "### Group max"
   ]
  },
  {
   "cell_type": "code",
   "execution_count": 50,
   "metadata": {},
   "outputs": [
    {
     "name": "stdout",
     "output_type": "stream",
     "text": [
      "[[nan nan nan]\n",
      " [nan nan nan]\n",
      " [nan nan nan]]\n"
     ]
    }
   ],
   "source": [
    "out = np.empty((len(np.unique(groups)), probs.shape[1]))\n",
    "out[:] = np.nan\n",
    "print(out)"
   ]
  },
  {
   "cell_type": "code",
   "execution_count": 51,
   "metadata": {},
   "outputs": [
    {
     "name": "stdout",
     "output_type": "stream",
     "text": [
      "[[0.13119027 0.70980192 0.15900781]\n",
      " [0.47178453 0.01559502 0.51262046]\n",
      " [0.4612004  0.24318019 0.29561941]]\n"
     ]
    }
   ],
   "source": [
    "out[groups[index]] = probs[index]\n",
    "print(out)"
   ]
  },
  {
   "cell_type": "code",
   "execution_count": 52,
   "metadata": {},
   "outputs": [
    {
     "data": {
      "text/plain": [
       "array([0, 1, 2])"
      ]
     },
     "execution_count": 52,
     "metadata": {},
     "output_type": "execute_result"
    }
   ],
   "source": [
    "groups[index]"
   ]
  },
  {
   "cell_type": "code",
   "execution_count": 53,
   "metadata": {},
   "outputs": [
    {
     "data": {
      "text/plain": [
       "array([False,  True, False, False,  True, False,  True])"
      ]
     },
     "execution_count": 53,
     "metadata": {},
     "output_type": "execute_result"
    }
   ],
   "source": [
    "index"
   ]
  },
  {
   "cell_type": "markdown",
   "metadata": {},
   "source": [
    "## Alternative\n",
    "\n",
    "Want a ceiling on the class"
   ]
  },
  {
   "cell_type": "code",
   "execution_count": 54,
   "metadata": {},
   "outputs": [],
   "source": [
    "groups = np.array([0,0,0,1,1])\n",
    "probs = np.array([[0.90, 0.05, 0.05],\n",
    "                  [0.15, 0.7, 0.15],\n",
    "                  [0.05, 0.8, 0.15],\n",
    "                  [0.80, 0.1, 0.1],\n",
    "                  [0.25, 0.25, 0.5]])"
   ]
  },
  {
   "cell_type": "markdown",
   "metadata": {},
   "source": [
    "current implementation: <br>\n",
    "gives wrong answer for group 0 -- takes highest prob irrespective of class ie 0.9 and classifies slide as class 1"
   ]
  },
  {
   "cell_type": "code",
   "execution_count": 55,
   "metadata": {},
   "outputs": [
    {
     "name": "stdout",
     "output_type": "stream",
     "text": [
      "[0 3]\n"
     ]
    }
   ],
   "source": [
    "max_probs = np.max(probs, axis=1)\n",
    "order = np.lexsort((max_probs, groups))\n",
    "groups_ordered = groups[order]\n",
    "probs_ordered = probs[order]\n",
    "index = np.empty(len(groups), 'bool')\n",
    "index[-k:] = True\n",
    "index[:-k] = groups_ordered[k:] != groups_ordered[:-k]\n",
    "print(order[index])"
   ]
  },
  {
   "cell_type": "markdown",
   "metadata": {},
   "source": [
    "below implementation: <br>\n",
    "gives correct answer for group 0 -- ranks by highest class and highest prob, so tile 3 is best tile for slide 1, classifies slide as class 2"
   ]
  },
  {
   "cell_type": "code",
   "execution_count": 56,
   "metadata": {},
   "outputs": [
    {
     "data": {
      "text/plain": [
       "array([0.9, 1.7, 1.8, 0.8, 2.5])"
      ]
     },
     "execution_count": 56,
     "metadata": {},
     "output_type": "execute_result"
    }
   ],
   "source": [
    "np.argmax(probs, 1) + np.max(probs,1)"
   ]
  },
  {
   "cell_type": "code",
   "execution_count": 57,
   "metadata": {},
   "outputs": [
    {
     "name": "stdout",
     "output_type": "stream",
     "text": [
      "[2 4]\n"
     ]
    }
   ],
   "source": [
    "max_probs = np.argmax(probs, 1) + np.max(probs,1)\n",
    "order = np.lexsort((max_probs, groups))\n",
    "groups_ordered = groups[order]\n",
    "probs_ordered = probs[order]\n",
    "index = np.empty(len(groups), 'bool')\n",
    "index[-k:] = True\n",
    "index[:-k] = groups_ordered[k:] != groups_ordered[:-k]\n",
    "print(order[index])"
   ]
  },
  {
   "cell_type": "code",
   "execution_count": 58,
   "metadata": {},
   "outputs": [
    {
     "name": "stdout",
     "output_type": "stream",
     "text": [
      "[[0.05 0.8  0.15]\n",
      " [0.25 0.25 0.5 ]]\n"
     ]
    }
   ],
   "source": [
    "out = np.empty((len(set(groups)), probs_ordered.shape[1]))\n",
    "out[:] = np.nan\n",
    "out[groups[index]] = probs[index]\n",
    "print(out)"
   ]
  },
  {
   "cell_type": "markdown",
   "metadata": {},
   "source": [
    "### Top-k for each class"
   ]
  },
  {
   "cell_type": "code",
   "execution_count": 59,
   "metadata": {},
   "outputs": [],
   "source": [
    "groups = np.array([0,0,0,1,1])\n",
    "ranks = np.array([[2,3,1],\n",
    "                  [3,1,2],\n",
    "                  [1,2,3],\n",
    "                  [0,2,1],\n",
    "                  [0,1,2]])"
   ]
  },
  {
   "cell_type": "code",
   "execution_count": 60,
   "metadata": {},
   "outputs": [
    {
     "name": "stdout",
     "output_type": "stream",
     "text": [
      "[0 1 2 3 4]\n",
      "[1 2 0 4 3]\n"
     ]
    }
   ],
   "source": [
    "print(np.lexsort((ranks[:,-1], groups)))\n",
    "print(np.lexsort((ranks[:,-2], groups)))"
   ]
  },
  {
   "cell_type": "code",
   "execution_count": 61,
   "metadata": {},
   "outputs": [],
   "source": [
    "from train import group_argtopk"
   ]
  },
  {
   "cell_type": "code",
   "execution_count": 62,
   "metadata": {},
   "outputs": [
    {
     "name": "stdout",
     "output_type": "stream",
     "text": [
      "class: 0, top idxs: [1 4]\n",
      "class: 1, top idxs: [0 3]\n",
      "class: 2, top idxs: [2 4]\n"
     ]
    }
   ],
   "source": [
    "for i in range(ranks.shape[1]):\n",
    "    print(f'class: {i}, top idxs: {group_argtopk(ranks[:,i:i+1], groups)}')"
   ]
  },
  {
   "cell_type": "markdown",
   "metadata": {},
   "source": [
    "### Top-k for highest class of > 50% prob"
   ]
  },
  {
   "cell_type": "code",
   "execution_count": 99,
   "metadata": {},
   "outputs": [],
   "source": [
    "groups = np.array([0,0,0,1,1])\n",
    "probs = np.array([[0.80, 0.05, 0.05, 0.1],\n",
    "                  [0.15, 0.65, 0.15, 0.05],\n",
    "                  [0.05, 0.8, 0.1, 0.05],\n",
    "                  [0.80, 0.1, 0.05, 0.05],\n",
    "                  [0.2, 0.2, 0.25, 0.35]])"
   ]
  },
  {
   "cell_type": "code",
   "execution_count": 100,
   "metadata": {},
   "outputs": [
    {
     "data": {
      "text/plain": [
       "array([0.8 , 1.65, 1.8 , 0.8 , 3.35])"
      ]
     },
     "execution_count": 100,
     "metadata": {},
     "output_type": "execute_result"
    }
   ],
   "source": [
    "# problem -- group 1 is outputs highest prob 0.3 at class 2\n",
    "max_probs = np.argmax(probs, 1) + np.max(probs,1)\n",
    "max_probs"
   ]
  },
  {
   "cell_type": "code",
   "execution_count": 101,
   "metadata": {},
   "outputs": [
    {
     "data": {
      "text/plain": [
       "array([0, 1, 1, 0, 0])"
      ]
     },
     "execution_count": 101,
     "metadata": {},
     "output_type": "execute_result"
    }
   ],
   "source": [
    "# problem -- no differentiation between entry at 1 and 2 since only argmax\n",
    "max_probs = np.argmax(probs > 0.5, 1)\n",
    "max_probs"
   ]
  },
  {
   "cell_type": "code",
   "execution_count": 102,
   "metadata": {},
   "outputs": [
    {
     "data": {
      "text/plain": [
       "array([0.8 , 1.65, 1.8 , 0.8 , 0.35])"
      ]
     },
     "execution_count": 102,
     "metadata": {},
     "output_type": "execute_result"
    }
   ],
   "source": [
    "# problem -- max takes max prob across all classes, need max prob at the argmax of probs >= 0.5\n",
    "max_probs = np.argmax(probs >= 0.5, 1) + np.max(probs,1)\n",
    "max_probs"
   ]
  },
  {
   "cell_type": "code",
   "execution_count": 103,
   "metadata": {},
   "outputs": [
    {
     "data": {
      "text/plain": [
       "array([0.8 , 1.65, 1.8 , 0.8 , 0.2 ])"
      ]
     },
     "execution_count": 103,
     "metadata": {},
     "output_type": "execute_result"
    }
   ],
   "source": [
    "max_probs = np.argmax(probs >= 0.5, 1) + probs[np.arange(len(probs)), np.argmax(probs >= 0.5, 1)]\n",
    "max_probs"
   ]
  },
  {
   "cell_type": "code",
   "execution_count": 104,
   "metadata": {},
   "outputs": [
    {
     "name": "stdout",
     "output_type": "stream",
     "text": [
      "[2 3]\n"
     ]
    }
   ],
   "source": [
    "order = np.lexsort((max_probs, groups))\n",
    "groups_ordered = groups[order]\n",
    "probs_ordered = probs[order]\n",
    "index = np.empty(len(groups), 'bool')\n",
    "index[-k:] = True\n",
    "index[:-k] = groups_ordered[k:] != groups_ordered[:-k]\n",
    "print(order[index])"
   ]
  },
  {
   "cell_type": "code",
   "execution_count": 105,
   "metadata": {},
   "outputs": [
    {
     "data": {
      "text/plain": [
       "array([[0.05, 0.8 , 0.1 , 0.05],\n",
       "       [0.8 , 0.1 , 0.05, 0.05]])"
      ]
     },
     "execution_count": 105,
     "metadata": {},
     "output_type": "execute_result"
    }
   ],
   "source": [
    "probs[order[index]]"
   ]
  },
  {
   "cell_type": "code",
   "execution_count": null,
   "metadata": {},
   "outputs": [],
   "source": []
  }
 ],
 "metadata": {
  "kernelspec": {
   "display_name": "Python 3",
   "language": "python",
   "name": "python3"
  },
  "language_info": {
   "codemirror_mode": {
    "name": "ipython",
    "version": 3
   },
   "file_extension": ".py",
   "mimetype": "text/x-python",
   "name": "python",
   "nbconvert_exporter": "python",
   "pygments_lexer": "ipython3",
   "version": "3.8.3"
  }
 },
 "nbformat": 4,
 "nbformat_minor": 4
}

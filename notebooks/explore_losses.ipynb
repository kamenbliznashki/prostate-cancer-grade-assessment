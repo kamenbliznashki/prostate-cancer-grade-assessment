{
 "cells": [
  {
   "cell_type": "code",
   "execution_count": 82,
   "metadata": {},
   "outputs": [],
   "source": [
    "import torch\n",
    "import torch.nn.functional as F\n",
    "import torchvision.transforms as T\n",
    "from torchvision.models import resnet34\n",
    "\n",
    "import numpy as np\n",
    "import pandas as pd\n",
    "import seaborn as sns\n",
    "import matplotlib.pyplot as plt\n",
    "from sklearn.metrics import cohen_kappa_score, confusion_matrix\n",
    "\n",
    "from train import group_max, group_argtopk\n",
    "from dataset import MILdataset"
   ]
  },
  {
   "cell_type": "code",
   "execution_count": 2,
   "metadata": {},
   "outputs": [],
   "source": [
    "np.set_printoptions(linewidth=150, suppress=True)"
   ]
  },
  {
   "cell_type": "markdown",
   "metadata": {},
   "source": [
    "## Load model"
   ]
  },
  {
   "cell_type": "code",
   "execution_count": 3,
   "metadata": {},
   "outputs": [],
   "source": [
    "model = resnet34(num_classes=6)"
   ]
  },
  {
   "cell_type": "code",
   "execution_count": 4,
   "metadata": {},
   "outputs": [],
   "source": [
    "# load checkpoint\n",
    "ckpt = '~/Downloads/projects/prostate-cancer-grade-assessment/runs/Jul10_21-36-05_instance-3/checkpoint_best.pt'\n",
    "model.load_state_dict(torch.load(ckpt, map_location='cpu')['model_state'])\n",
    "model.eval();"
   ]
  },
  {
   "cell_type": "code",
   "execution_count": 5,
   "metadata": {},
   "outputs": [
    {
     "data": {
      "text/html": [
       "<div>\n",
       "<style scoped>\n",
       "    .dataframe tbody tr th:only-of-type {\n",
       "        vertical-align: middle;\n",
       "    }\n",
       "\n",
       "    .dataframe tbody tr th {\n",
       "        vertical-align: top;\n",
       "    }\n",
       "\n",
       "    .dataframe thead th {\n",
       "        text-align: right;\n",
       "    }\n",
       "</style>\n",
       "<table border=\"1\" class=\"dataframe\">\n",
       "  <thead>\n",
       "    <tr style=\"text-align: right;\">\n",
       "      <th></th>\n",
       "      <th>data_provider</th>\n",
       "      <th>isup_grade</th>\n",
       "      <th>gleason_score</th>\n",
       "    </tr>\n",
       "    <tr>\n",
       "      <th>image_id</th>\n",
       "      <th></th>\n",
       "      <th></th>\n",
       "      <th></th>\n",
       "    </tr>\n",
       "  </thead>\n",
       "  <tbody>\n",
       "    <tr>\n",
       "      <th>0005f7aaab2800f6170c399693a96917</th>\n",
       "      <td>karolinska</td>\n",
       "      <td>0</td>\n",
       "      <td>0+0</td>\n",
       "    </tr>\n",
       "    <tr>\n",
       "      <th>000920ad0b612851f8e01bcc880d9b3d</th>\n",
       "      <td>karolinska</td>\n",
       "      <td>0</td>\n",
       "      <td>0+0</td>\n",
       "    </tr>\n",
       "    <tr>\n",
       "      <th>0018ae58b01bdadc8e347995b69f99aa</th>\n",
       "      <td>radboud</td>\n",
       "      <td>4</td>\n",
       "      <td>4+4</td>\n",
       "    </tr>\n",
       "    <tr>\n",
       "      <th>001c62abd11fa4b57bf7a6c603a11bb9</th>\n",
       "      <td>karolinska</td>\n",
       "      <td>4</td>\n",
       "      <td>4+4</td>\n",
       "    </tr>\n",
       "    <tr>\n",
       "      <th>001d865e65ef5d2579c190a0e0350d8f</th>\n",
       "      <td>karolinska</td>\n",
       "      <td>0</td>\n",
       "      <td>0+0</td>\n",
       "    </tr>\n",
       "  </tbody>\n",
       "</table>\n",
       "</div>"
      ],
      "text/plain": [
       "                                 data_provider  isup_grade gleason_score\n",
       "image_id                                                                \n",
       "0005f7aaab2800f6170c399693a96917    karolinska           0           0+0\n",
       "000920ad0b612851f8e01bcc880d9b3d    karolinska           0           0+0\n",
       "0018ae58b01bdadc8e347995b69f99aa       radboud           4           4+4\n",
       "001c62abd11fa4b57bf7a6c603a11bb9    karolinska           4           4+4\n",
       "001d865e65ef5d2579c190a0e0350d8f    karolinska           0           0+0"
      ]
     },
     "execution_count": 5,
     "metadata": {},
     "output_type": "execute_result"
    }
   ],
   "source": [
    "df = pd.read_csv('./data/train.csv').set_index('image_id').sort_index()\n",
    "df.head()"
   ]
  },
  {
   "cell_type": "code",
   "execution_count": 6,
   "metadata": {},
   "outputs": [
    {
     "name": "stdout",
     "output_type": "stream",
     "text": [
      "Dataset construction mismatch.\n",
      "dataset length: 500\n"
     ]
    }
   ],
   "source": [
    "ds = MILdataset('./data/train_images/tiles_overlap_0/', df)\n",
    "ds.set_mode('eval')\n",
    "print('dataset length:', len(ds))"
   ]
  },
  {
   "cell_type": "code",
   "execution_count": 7,
   "metadata": {},
   "outputs": [],
   "source": [
    "img_avg = np.loadtxt('./kaggle-datasets/ckpts/img_avg.txt')\n",
    "img_std  = np.loadtxt('./kaggle-datasets/ckpts/img_std.txt')\n",
    "ds.transform = T.Compose([T.ToTensor(), T.Normalize(img_avg, img_std)])"
   ]
  },
  {
   "cell_type": "code",
   "execution_count": 8,
   "metadata": {},
   "outputs": [
    {
     "data": {
      "text/plain": [
       "array([202, 203, 204, 205, 206, 207, 208, 209, 210, 211, 212, 213, 214, 215, 216, 217, 218, 219, 220, 221, 222, 223])"
      ]
     },
     "execution_count": 8,
     "metadata": {},
     "output_type": "execute_result"
    }
   ],
   "source": [
    "idxs_to_eval = np.where(ds.slide_idxs == 5)[0]\n",
    "idxs_to_eval"
   ]
  },
  {
   "cell_type": "code",
   "execution_count": 9,
   "metadata": {},
   "outputs": [
    {
     "name": "stdout",
     "output_type": "stream",
     "text": [
      "ground truth:\n",
      " data_provider    radboud\n",
      "isup_grade             4\n",
      "gleason_score        4+4\n",
      "Name: 07a14fa5b8f74272e4cc0a439dbc8f7f, dtype: object\n"
     ]
    }
   ],
   "source": [
    "img_id = ds.tiles[idxs_to_eval[0]].rpartition('/')[2].split('_')[0]\n",
    "label = df.loc[img_id].isup_grade\n",
    "print('ground truth:\\n', df.loc[img_id])"
   ]
  },
  {
   "cell_type": "code",
   "execution_count": 10,
   "metadata": {},
   "outputs": [],
   "source": [
    "logits = []\n",
    "ds.set_mode('eval')\n",
    "model.eval()\n",
    "with torch.no_grad():\n",
    "    for i in idxs_to_eval:\n",
    "        x = ds[i].unsqueeze(0)\n",
    "        logits.append(model(x))\n",
    "logits = torch.cat(logits)"
   ]
  },
  {
   "cell_type": "code",
   "execution_count": 11,
   "metadata": {},
   "outputs": [
    {
     "data": {
      "text/plain": [
       "torch.Size([22, 6])"
      ]
     },
     "execution_count": 11,
     "metadata": {},
     "output_type": "execute_result"
    }
   ],
   "source": [
    "logits.shape"
   ]
  },
  {
   "cell_type": "code",
   "execution_count": 12,
   "metadata": {},
   "outputs": [],
   "source": [
    "probs = F.softmax(logits, 1).numpy()"
   ]
  },
  {
   "cell_type": "code",
   "execution_count": 13,
   "metadata": {},
   "outputs": [
    {
     "data": {
      "image/png": "[encoded data removed]",
      "text/plain": [
       "<Figure size 432x288 with 2 Axes>"
      ]
     },
     "metadata": {
      "needs_background": "light"
     },
     "output_type": "display_data"
    }
   ],
   "source": [
    "sns.heatmap(probs);"
   ]
  },
  {
   "cell_type": "markdown",
   "metadata": {},
   "source": [
    "# Losses"
   ]
  },
  {
   "cell_type": "markdown",
   "metadata": {},
   "source": [
    "For slide 07a14fa5b8f74272e4cc0a439dbc8f7f <br>\n",
    "correct label is 4 <br>\n",
    "tile_idx 3 predicts label 4 --- correctly classified as in tile label matches slide label => want no loss here<br>\n",
    "tile_idx 4 predicts wrong label 5 --- (false positive) no tiles in bag should be classified above slide label => want loss here <br>\n",
    "tile_idx 21 predicts label 0 --- could be true for healthy tile and otherwise unhealthy slide => want loss here if no other tile has higher class and no loss here if other tiles with higher class exist for this slide <br>\n",
    "\n",
    "During training, select tile with highest class with prob > 50%. So if I have a tile with class > target, it will be selected into training set and will lead to high loss. <br>\n",
    "Conversely, if I have a tile with class < target: <br>\n",
    "* option a: tile is selected when no other tile has class >= target, then I want loss to push tile up\n",
    "* option b: tile is not selected because some other tile with class >= target is selected, so no loss from this tile"
   ]
  },
  {
   "cell_type": "code",
   "execution_count": 33,
   "metadata": {},
   "outputs": [
    {
     "name": "stdout",
     "output_type": "stream",
     "text": [
      "logits at tile idx 3 (correct)     :  [-2.041 -1.931 -3.198  0.866  4.581 -0.354]\n",
      "logits at tile idx 4 (wrong above) :  [-1.39  -2.454 -4.186 -1.25   2.627  4.553]\n",
      "logits at tile idx 21              :  [ 3.891  1.362 -0.435 -0.808 -1.989 -2.518]\n",
      "-------\n",
      "softmax probs at tile idx 3 (correct)     :  [0.001 0.001 0.    0.024 0.966 0.007]\n",
      "softmax probs at tile idx 4 (wrong above) :  [0.002 0.001 0.    0.003 0.127 0.868]\n",
      "softmax probs at tile idx 21              :  [0.904 0.072 0.012 0.008 0.003 0.001]\n",
      "-------\n",
      "sigmoid probs at tile idx 3 (correct)     :  [0.115 0.127 0.039 0.704 0.99  0.412]\n",
      "sigmoid probs at tile idx 4 (wrong above) :  [0.199 0.079 0.015 0.223 0.933 0.99 ]\n",
      "sigmoid probs at tile idx 21              :  [0.98  0.796 0.393 0.308 0.12  0.075]\n"
     ]
    }
   ],
   "source": [
    "print('logits at tile idx 3 (correct)     : ', logits[3].numpy().round(3))\n",
    "print('logits at tile idx 4 (wrong above) : ', logits[4].numpy().round(3))\n",
    "print('logits at tile idx 21              : ', logits[21].numpy().round(3))\n",
    "print('-------')\n",
    "print('softmax probs at tile idx 3 (correct)     : ', F.softmax(logits[3], 0).numpy().round(3))\n",
    "print('softmax probs at tile idx 4 (wrong above) : ', F.softmax(logits[4], 0).numpy().round(3))\n",
    "print('softmax probs at tile idx 21              : ', F.softmax(logits[21], 0).numpy().round(3))\n",
    "print('-------')\n",
    "print('sigmoid probs at tile idx 3 (correct)     : ', F.sigmoid(logits[3]).numpy().round(3))\n",
    "print('sigmoid probs at tile idx 4 (wrong above) : ', F.sigmoid(logits[4]).numpy().round(3))\n",
    "print('sigmoid probs at tile idx 21              : ', F.sigmoid(logits[21]).numpy().round(3))"
   ]
  },
  {
   "cell_type": "markdown",
   "metadata": {},
   "source": [
    "#### CE"
   ]
  },
  {
   "cell_type": "markdown",
   "metadata": {},
   "source": [
    "Optimize for high probability at the correct slide label."
   ]
  },
  {
   "cell_type": "code",
   "execution_count": 85,
   "metadata": {},
   "outputs": [
    {
     "name": "stdout",
     "output_type": "stream",
     "text": [
      "loss at tile idx 3 :  tensor(0.0342)\n",
      "loss at tile idx 4 :  tensor(2.0672)\n",
      "loss at tile idx 21:  tensor(5.9810)\n"
     ]
    }
   ],
   "source": [
    "loss = - F.log_softmax(logits, 1)[:, label]\n",
    "assert torch.allclose(loss, F.cross_entropy(logits, label * torch.ones(len(logits)).long(), reduction='none'))\n",
    "print('loss at tile idx 3 : ', loss[3])\n",
    "print('loss at tile idx 4 : ', loss[4])\n",
    "print('loss at tile idx 21: ', loss[21])"
   ]
  },
  {
   "cell_type": "markdown",
   "metadata": {},
   "source": [
    "#### Masked BCE"
   ]
  },
  {
   "cell_type": "markdown",
   "metadata": {},
   "source": [
    "Should only take loss for labels above the target label: e.g. loss is [0.1, 0.2, 0.3] and target label is 1, then take 0.3 and ignore entries 0.1 and 0.2"
   ]
  },
  {
   "cell_type": "code",
   "execution_count": 114,
   "metadata": {},
   "outputs": [
    {
     "name": "stdout",
     "output_type": "stream",
     "text": [
      "bce label:  tensor([1., 1., 1., 1., 1., 0.])\n",
      "loss at tile idx 3 :  tensor([2.1630, 2.0662, 3.2380, 0.3512, 0.0102, 0.5316])\n",
      "loss at tile idx 4 :  tensor([1.6122, 2.5366, 4.2008, 1.5018, 0.0698, 4.5631])\n",
      "loss at tile idx 21:  tensor([0.0202, 0.2280, 0.9340, 1.1769, 2.1168, 0.0775])\n",
      "-----\n",
      "mean loss at tile idx 3 :  tensor(1.3933)\n",
      "mean loss at tile idx 4 :  tensor(2.4140)\n",
      "mean loss at tile idx 21:  tensor(0.7589)\n",
      "-----\n",
      "mask:  tensor([False, False, False, False,  True,  True])\n",
      "masked loss at tile idx 3 :  tensor([0.0000, 0.0000, 0.0000, 0.0000, 0.0102, 0.5316])\n",
      "masked loss at tile idx 4 :  tensor([0.0000, 0.0000, 0.0000, 0.0000, 0.0698, 4.5631])\n",
      "masked loss at tile idx 21:  tensor([0.0000, 0.0000, 0.0000, 0.0000, 2.1168, 0.0775])\n"
     ]
    }
   ],
   "source": [
    "bce_label = torch.from_numpy(np.arange(6) <= label).repeat(len(logits),1).float()\n",
    "print('bce label: ', bce_label[0])\n",
    "loss = F.binary_cross_entropy_with_logits(logits, bce_label, reduction='none')\n",
    "print('loss at tile idx 3 : ', loss[3])\n",
    "print('loss at tile idx 4 : ', loss[4])\n",
    "print('loss at tile idx 21: ', loss[21])\n",
    "print('-----')\n",
    "print('mean loss at tile idx 3 : ', loss.mean(1)[3])\n",
    "print('mean loss at tile idx 4 : ', loss.mean(1)[4])\n",
    "print('mean loss at tile idx 21: ', loss.mean(1)[21])\n",
    "print('-----')\n",
    "mask = bce_label.cumsum(1) == bce_label.cumsum(1).max(1, keepdim=True).values  # only count loss at target class and any classes above target class\n",
    "print('mask: ', mask[0])\n",
    "print('masked loss at tile idx 3 : ', (loss * mask)[3])\n",
    "print('masked loss at tile idx 4 : ', (loss * mask)[4])\n",
    "print('masked loss at tile idx 21: ', (loss * mask)[21])"
   ]
  },
  {
   "cell_type": "markdown",
   "metadata": {},
   "source": [
    "#### MultiMargin"
   ]
  },
  {
   "cell_type": "markdown",
   "metadata": {},
   "source": [
    "This could cause problems with my training set tile selection taking tiles from highest class with prob >= 0.5. Prob 0.5 becomes meaningless with the margin loss on it own."
   ]
  },
  {
   "cell_type": "code",
   "execution_count": 629,
   "metadata": {},
   "outputs": [
    {
     "name": "stdout",
     "output_type": "stream",
     "text": [
      "loss at tile idx 3 :  tensor(0.)\n",
      "loss at tile idx 4 :  tensor(0.4875)\n",
      "loss at tile idx 21:  tensor(2.7392)\n",
      "-----\n",
      "loss components at tile idx 3 :  [0. 0. 0. 0. 0.]\n",
      "loss components at tile idx 4 :  [0.        0.        0.        0.        2.9252732]\n",
      "loss components at tile idx 21:  [6.879841   4.3508034  2.5537028  2.1801994  0.47050428]\n",
      "-----\n",
      "[0. 0. 0. 0. 1.]\n",
      "masked loss components at tile idx 3 :  [0. 0. 0. 0. 0.]\n",
      "masked loss components at tile idx 4 :  [0.        0.        0.        0.        2.9252732]\n",
      "masked loss components at tile idx 21:  [0.         0.         0.         0.         0.47050428]\n"
     ]
    }
   ],
   "source": [
    "loss = F.multi_margin_loss(logits, label * torch.ones(len(logits)).long(), reduction='none')\n",
    "print('loss at tile idx 3 : ', loss[3])\n",
    "print('loss at tile idx 4 : ', loss[4])\n",
    "print('loss at tile idx 21: ', loss[21])\n",
    "print('-----')\n",
    "loss_components = np.maximum(0, 1 - logits[:,label].numpy()[:,None] + np.delete(logits.numpy(), label, axis=1))\n",
    "print('loss components at tile idx 3 : ', loss_components[3])\n",
    "print('loss components at tile idx 4 : ', loss_components[4])\n",
    "print('loss components at tile idx 21: ', loss_components[21])\n",
    "print('-----')\n",
    "mask = 1 - np.tile(np.hstack([np.ones(label), np.zeros(6 - label - 1)]), (len(logits), 1)).astype(np.float32)\n",
    "print(mask[0])\n",
    "print('masked loss components at tile idx 3 : ', (loss_components * mask)[3])\n",
    "print('masked loss components at tile idx 4 : ', (loss_components * mask)[4])\n",
    "print('masked loss components at tile idx 21: ', (loss_components * mask)[21])"
   ]
  },
  {
   "cell_type": "markdown",
   "metadata": {},
   "source": [
    "# Confusion matrix at loss function"
   ]
  },
  {
   "cell_type": "markdown",
   "metadata": {},
   "source": [
    "What is loss at lower left and upper right corner of cm\n",
    "<br>\n",
    "pretend the preds above are for different slides; look at cm"
   ]
  },
  {
   "cell_type": "code",
   "execution_count": 95,
   "metadata": {},
   "outputs": [],
   "source": [
    "preds = logits.argmax(1)\n",
    "cm = confusion_matrix(label * np.ones(len(logits)), preds)"
   ]
  },
  {
   "cell_type": "code",
   "execution_count": 96,
   "metadata": {},
   "outputs": [
    {
     "data": {
      "text/plain": [
       "<matplotlib.axes._subplots.AxesSubplot at 0x7fce18d4adc0>"
      ]
     },
     "execution_count": 96,
     "metadata": {},
     "output_type": "execute_result"
    },
    {
     "data": {
      "image/png": "[encoded data removed]",
      "text/plain": [
       "<Figure size 432x288 with 2 Axes>"
      ]
     },
     "metadata": {
      "needs_background": "light"
     },
     "output_type": "display_data"
    }
   ],
   "source": [
    "sns.heatmap(cm)"
   ]
  },
  {
   "cell_type": "code",
   "execution_count": 115,
   "metadata": {},
   "outputs": [],
   "source": [
    "loss = torch.sum(loss * mask, 1)"
   ]
  },
  {
   "cell_type": "code",
   "execution_count": 116,
   "metadata": {},
   "outputs": [
    {
     "data": {
      "text/plain": [
       "tensor(1.4346)"
      ]
     },
     "execution_count": 116,
     "metadata": {},
     "output_type": "execute_result"
    }
   ],
   "source": [
    "loss.masked_select(preds == 0).mean()"
   ]
  },
  {
   "cell_type": "code",
   "execution_count": 117,
   "metadata": {},
   "outputs": [
    {
     "data": {
      "text/plain": [
       "tensor([0.5810])"
      ]
     },
     "execution_count": 117,
     "metadata": {},
     "output_type": "execute_result"
    }
   ],
   "source": [
    "loss.masked_select(preds == 1)"
   ]
  },
  {
   "cell_type": "code",
   "execution_count": 118,
   "metadata": {},
   "outputs": [
    {
     "data": {
      "text/plain": [
       "tensor([4.6329])"
      ]
     },
     "execution_count": 118,
     "metadata": {},
     "output_type": "execute_result"
    }
   ],
   "source": [
    "loss.masked_select(preds == 5)"
   ]
  },
  {
   "cell_type": "code",
   "execution_count": null,
   "metadata": {},
   "outputs": [],
   "source": []
  }
 ],
 "metadata": {
  "kernelspec": {
   "display_name": "Python 3",
   "language": "python",
   "name": "python3"
  },
  "language_info": {
   "codemirror_mode": {
    "name": "ipython",
    "version": 3
   },
   "file_extension": ".py",
   "mimetype": "text/x-python",
   "name": "python",
   "nbconvert_exporter": "python",
   "pygments_lexer": "ipython3",
   "version": "3.8.3"
  }
 },
 "nbformat": 4,
 "nbformat_minor": 4
}

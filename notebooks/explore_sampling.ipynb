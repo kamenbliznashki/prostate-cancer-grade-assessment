{
 "cells": [
  {
   "cell_type": "code",
   "execution_count": 2,
   "metadata": {},
   "outputs": [],
   "source": [
    "import pandas as pd\n",
    "import numpy as np\n",
    "import torch\n",
    "from torch.utils.data import WeightedRandomSampler, Sampler"
   ]
  },
  {
   "cell_type": "code",
   "execution_count": 3,
   "metadata": {},
   "outputs": [
    {
     "data": {
      "text/html": [
       "<div>\n",
       "<style scoped>\n",
       "    .dataframe tbody tr th:only-of-type {\n",
       "        vertical-align: middle;\n",
       "    }\n",
       "\n",
       "    .dataframe tbody tr th {\n",
       "        vertical-align: top;\n",
       "    }\n",
       "\n",
       "    .dataframe thead th {\n",
       "        text-align: right;\n",
       "    }\n",
       "</style>\n",
       "<table border=\"1\" class=\"dataframe\">\n",
       "  <thead>\n",
       "    <tr style=\"text-align: right;\">\n",
       "      <th></th>\n",
       "      <th>data_provider</th>\n",
       "      <th>isup_grade</th>\n",
       "      <th>gleason_score</th>\n",
       "    </tr>\n",
       "    <tr>\n",
       "      <th>image_id</th>\n",
       "      <th></th>\n",
       "      <th></th>\n",
       "      <th></th>\n",
       "    </tr>\n",
       "  </thead>\n",
       "  <tbody>\n",
       "    <tr>\n",
       "      <th>0005f7aaab2800f6170c399693a96917</th>\n",
       "      <td>karolinska</td>\n",
       "      <td>0</td>\n",
       "      <td>0+0</td>\n",
       "    </tr>\n",
       "    <tr>\n",
       "      <th>000920ad0b612851f8e01bcc880d9b3d</th>\n",
       "      <td>karolinska</td>\n",
       "      <td>0</td>\n",
       "      <td>0+0</td>\n",
       "    </tr>\n",
       "    <tr>\n",
       "      <th>0018ae58b01bdadc8e347995b69f99aa</th>\n",
       "      <td>radboud</td>\n",
       "      <td>4</td>\n",
       "      <td>4+4</td>\n",
       "    </tr>\n",
       "    <tr>\n",
       "      <th>001c62abd11fa4b57bf7a6c603a11bb9</th>\n",
       "      <td>karolinska</td>\n",
       "      <td>4</td>\n",
       "      <td>4+4</td>\n",
       "    </tr>\n",
       "    <tr>\n",
       "      <th>001d865e65ef5d2579c190a0e0350d8f</th>\n",
       "      <td>karolinska</td>\n",
       "      <td>0</td>\n",
       "      <td>0+0</td>\n",
       "    </tr>\n",
       "  </tbody>\n",
       "</table>\n",
       "</div>"
      ],
      "text/plain": [
       "                                 data_provider  isup_grade gleason_score\n",
       "image_id                                                                \n",
       "0005f7aaab2800f6170c399693a96917    karolinska           0           0+0\n",
       "000920ad0b612851f8e01bcc880d9b3d    karolinska           0           0+0\n",
       "0018ae58b01bdadc8e347995b69f99aa       radboud           4           4+4\n",
       "001c62abd11fa4b57bf7a6c603a11bb9    karolinska           4           4+4\n",
       "001d865e65ef5d2579c190a0e0350d8f    karolinska           0           0+0"
      ]
     },
     "execution_count": 3,
     "metadata": {},
     "output_type": "execute_result"
    }
   ],
   "source": [
    "df = pd.read_csv('./data/train.csv').set_index('image_id').sort_index()\n",
    "df.head()"
   ]
  },
  {
   "cell_type": "code",
   "execution_count": 4,
   "metadata": {},
   "outputs": [
    {
     "data": {
      "text/plain": [
       "image_id\n",
       "0005f7aaab2800f6170c399693a96917    0\n",
       "000920ad0b612851f8e01bcc880d9b3d    0\n",
       "0018ae58b01bdadc8e347995b69f99aa    4\n",
       "001c62abd11fa4b57bf7a6c603a11bb9    4\n",
       "001d865e65ef5d2579c190a0e0350d8f    0\n",
       "Name: isup_grade, dtype: int64"
      ]
     },
     "execution_count": 4,
     "metadata": {},
     "output_type": "execute_result"
    }
   ],
   "source": [
    "sub_df = df.iloc[:5].loc[:, 'isup_grade']\n",
    "sub_df"
   ]
  },
  {
   "cell_type": "code",
   "execution_count": 5,
   "metadata": {},
   "outputs": [
    {
     "data": {
      "text/plain": [
       "0    0.6\n",
       "4    0.4\n",
       "Name: isup_grade, dtype: float64"
      ]
     },
     "execution_count": 5,
     "metadata": {},
     "output_type": "execute_result"
    }
   ],
   "source": [
    "sub_df.value_counts(normalize=True, sort=False)"
   ]
  },
  {
   "cell_type": "code",
   "execution_count": 8,
   "metadata": {},
   "outputs": [
    {
     "data": {
      "text/plain": [
       "image_id\n",
       "0005f7aaab2800f6170c399693a96917    0\n",
       "000920ad0b612851f8e01bcc880d9b3d    0\n",
       "0018ae58b01bdadc8e347995b69f99aa    4\n",
       "001c62abd11fa4b57bf7a6c603a11bb9    4\n",
       "001d865e65ef5d2579c190a0e0350d8f    0\n",
       "                                   ..\n",
       "ffd2841373b39792ab0c84cccd066e31    0\n",
       "ffdc59cd580a1468eac0e6a32dd1ff2d    5\n",
       "ffe06afd66a93258f8fabdef6044e181    0\n",
       "ffe236a25d4cbed59438220799920749    2\n",
       "ffe9bcababc858e04840669e788065a1    4\n",
       "Name: isup_grade, Length: 10616, dtype: int64"
      ]
     },
     "execution_count": 8,
     "metadata": {},
     "output_type": "execute_result"
    }
   ],
   "source": [
    "targets = df.loc[:,'isup_grade']\n",
    "targets"
   ]
  },
  {
   "cell_type": "markdown",
   "metadata": {},
   "source": [
    "### WeightedRandomSampler"
   ]
  },
  {
   "cell_type": "code",
   "execution_count": 93,
   "metadata": {},
   "outputs": [],
   "source": [
    "labels = np.random.choice([0,1,2], p=[0.6, 0.3, 0.1], size=(1000,))"
   ]
  },
  {
   "cell_type": "code",
   "execution_count": 94,
   "metadata": {},
   "outputs": [],
   "source": [
    "idxs = np.arange(len(labels))"
   ]
  },
  {
   "cell_type": "code",
   "execution_count": 95,
   "metadata": {},
   "outputs": [
    {
     "data": {
      "text/plain": [
       "array([592, 316,  92])"
      ]
     },
     "execution_count": 95,
     "metadata": {},
     "output_type": "execute_result"
    }
   ],
   "source": [
    "counts = np.unique(labels, return_counts=True)[1]\n",
    "counts"
   ]
  },
  {
   "cell_type": "code",
   "execution_count": 97,
   "metadata": {},
   "outputs": [],
   "source": [
    "# weights over the whole dataset (here the dataset is the labels array)\n",
    "w = 1 / counts[labels]"
   ]
  },
  {
   "cell_type": "code",
   "execution_count": 100,
   "metadata": {},
   "outputs": [
    {
     "name": "stdout",
     "output_type": "stream",
     "text": [
      "examples sampled:  [910, 123, 72, 98, 152, 854, 176, 990, 710, 455]\n",
      "labels sampled:  [1 1 0 0 1 2 2 2 1 1]\n",
      "sampled distribution:  [0.33  0.338 0.332]\n"
     ]
    }
   ],
   "source": [
    "sampled = [idxs[j] for j in torch.multinomial(torch.from_numpy(w), len(labels), True)]\n",
    "print('examples sampled: ', sampled[:10])\n",
    "print('labels sampled: ', labels[sampled][:10])\n",
    "print('sampled distribution: ', np.unique(labels[sampled], return_counts=True)[1] / len(sampled))"
   ]
  },
  {
   "cell_type": "markdown",
   "metadata": {},
   "source": [
    "### Multinomial resampling -- note uniform classes sampled BUT only 60% of the unique ids"
   ]
  },
  {
   "cell_type": "code",
   "execution_count": 6,
   "metadata": {},
   "outputs": [
    {
     "name": "stdout",
     "output_type": "stream",
     "text": [
      "counts by label:  [2892 2666 1343 1242 1249 1224]\n",
      "sampled unique labels:  [0 1 2 3 4 5]\n",
      "sampled unique ids:  6417\n",
      "sampled classes:  [0.16842502 0.16823662 0.17040317 0.16296157 0.16041824 0.16955539]\n"
     ]
    }
   ],
   "source": [
    "labels = df.isup_grade.values\n",
    "idxs = np.arange(len(df))\n",
    "counts = np.unique(labels, return_counts=True)[1]\n",
    "print('counts by label: ', counts)\n",
    "weights = torch.from_numpy(1 / counts[labels])\n",
    "sampled_idxs = [idxs[j] for j in torch.multinomial(weights, len(df), True)]\n",
    "sampled = df.iloc[sampled_idxs,:]\n",
    "print('sampled unique labels: ', np.unique(sampled.isup_grade.values))\n",
    "print('sampled unique ids: ', len(np.unique(sampled.index)))\n",
    "print('sampled classes: ', np.unique(sampled.isup_grade.values, return_counts=True)[1] / len(sampled))"
   ]
  },
  {
   "cell_type": "markdown",
   "metadata": {},
   "source": [
    "### Randomly under-sampler the majority classes"
   ]
  },
  {
   "cell_type": "code",
   "execution_count": 136,
   "metadata": {},
   "outputs": [],
   "source": [
    "sampled_class_0_idxs = np.random.choice(np.flatnonzero(labels==0), size=int(np.mean(counts[2:])), replace=False)\n",
    "sampled_class_1_idxs = np.random.choice(np.flatnonzero(labels==1), size=int(np.mean(counts[2:])), replace=False)\n",
    "resampled_df = df.copy()\n",
    "resampled_df = resampled_df[resampled_df.isup_grade != 0]\n",
    "resampled_df = resampled_df[resampled_df.isup_grade != 1]\n",
    "resampled_df = resampled_df.append(df.iloc[sampled_class_0_idxs])\n",
    "resampled_df = resampled_df.append(df.iloc[sampled_class_1_idxs])"
   ]
  },
  {
   "cell_type": "code",
   "execution_count": 141,
   "metadata": {},
   "outputs": [
    {
     "name": "stdout",
     "output_type": "stream",
     "text": [
      "sampled unique labels:  [4 3 5 2 0 1]\n",
      "sampled unique ids:  7586\n",
      "sampled classses:  [0.16662273 0.1646454  0.16662273 0.16134985 0.17703665 0.16372265]\n"
     ]
    }
   ],
   "source": [
    "print('sampled unique labels: ', resampled_df.isup_grade.unique())\n",
    "print('sampled unique ids: ', len(resampled_df))\n",
    "print('sampled classses: ', resampled_df.isup_grade.value_counts(normalize=True, sort=False).values)"
   ]
  }
 ],
 "metadata": {
  "kernelspec": {
   "display_name": "Python 3",
   "language": "python",
   "name": "python3"
  },
  "language_info": {
   "codemirror_mode": {
    "name": "ipython",
    "version": 3
   },
   "file_extension": ".py",
   "mimetype": "text/x-python",
   "name": "python",
   "nbconvert_exporter": "python",
   "pygments_lexer": "ipython3",
   "version": "3.8.3"
  }
 },
 "nbformat": 4,
 "nbformat_minor": 4
}

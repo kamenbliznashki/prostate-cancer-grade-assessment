{
 "cells": [
  {
   "cell_type": "code",
   "execution_count": 3,
   "metadata": {},
   "outputs": [],
   "source": [
    "import glob\n",
    "import os\n",
    "from collections import Counter\n",
    "from PIL import Image\n",
    "import numpy as np\n",
    "import pandas as pd"
   ]
  },
  {
   "cell_type": "code",
   "execution_count": 8,
   "metadata": {},
   "outputs": [],
   "source": [
    "data_dir = '../data/train_images/tiles_level_1_overlap_0/'"
   ]
  },
  {
   "cell_type": "code",
   "execution_count": 9,
   "metadata": {},
   "outputs": [],
   "source": [
    "tiles = glob.glob(data_dir + '*.png')"
   ]
  },
  {
   "cell_type": "code",
   "execution_count": 10,
   "metadata": {},
   "outputs": [],
   "source": [
    "tiles = sorted(tiles)"
   ]
  },
  {
   "cell_type": "code",
   "execution_count": 11,
   "metadata": {},
   "outputs": [
    {
     "data": {
      "text/plain": [
       "{'0005f7aaab2800f6170c399693a96917',\n",
       " '000920ad0b612851f8e01bcc880d9b3d',\n",
       " '0018ae58b01bdadc8e347995b69f99aa',\n",
       " '001c62abd11fa4b57bf7a6c603a11bb9',\n",
       " '001d865e65ef5d2579c190a0e0350d8f',\n",
       " '003046e27c8ead3e3db155780dc5498e',\n",
       " '07a14fa5b8f74272e4cc0a439dbc8f7f',\n",
       " '0a4b7a7499ed55c71033cefb0765e93d',\n",
       " '0da0915a236f2fc98b299d6fdefe7b8b',\n",
       " '0e5806abc1cf909123d584e504dd9bf9',\n",
       " '2fe01d7bbc55749e8108f0ce9c8fd6ca',\n",
       " '554c017aec32fb7b6448c3ba22d3f0e4',\n",
       " '60502735df319ec33f862579fb6563d5',\n",
       " '7c90a7a9ea4b644c26fa03ffd564676c',\n",
       " 'a135338352ca55f2cee63eb68b953cc7',\n",
       " 'b99ca5db00eca6566d106abce9cba70c',\n",
       " 'bb1013d0290e48b37be98f2a834131e8',\n",
       " 'c0db35440abdadea53ddf0f68fc68431'}"
      ]
     },
     "execution_count": 11,
     "metadata": {},
     "output_type": "execute_result"
    }
   ],
   "source": [
    "names = set([os.path.basename(x).split('_')[0] for x in tiles])\n",
    "names"
   ]
  },
  {
   "cell_type": "code",
   "execution_count": 12,
   "metadata": {},
   "outputs": [
    {
     "data": {
      "text/plain": [
       "Counter({'0005f7aaab2800f6170c399693a96917': 35,\n",
       "         '000920ad0b612851f8e01bcc880d9b3d': 15,\n",
       "         '0018ae58b01bdadc8e347995b69f99aa': 36,\n",
       "         '001c62abd11fa4b57bf7a6c603a11bb9': 45,\n",
       "         '001d865e65ef5d2579c190a0e0350d8f': 71,\n",
       "         '003046e27c8ead3e3db155780dc5498e': 45,\n",
       "         '07a14fa5b8f74272e4cc0a439dbc8f7f': 22,\n",
       "         '0a4b7a7499ed55c71033cefb0765e93d': 2,\n",
       "         '0da0915a236f2fc98b299d6fdefe7b8b': 22,\n",
       "         '0e5806abc1cf909123d584e504dd9bf9': 22,\n",
       "         '2fe01d7bbc55749e8108f0ce9c8fd6ca': 41,\n",
       "         '554c017aec32fb7b6448c3ba22d3f0e4': 2,\n",
       "         '60502735df319ec33f862579fb6563d5': 29,\n",
       "         '7c90a7a9ea4b644c26fa03ffd564676c': 40,\n",
       "         'a135338352ca55f2cee63eb68b953cc7': 12,\n",
       "         'b99ca5db00eca6566d106abce9cba70c': 27,\n",
       "         'bb1013d0290e48b37be98f2a834131e8': 46,\n",
       "         'c0db35440abdadea53ddf0f68fc68431': 33})"
      ]
     },
     "execution_count": 12,
     "metadata": {},
     "output_type": "execute_result"
    }
   ],
   "source": [
    "Counter([os.path.basename(x).split('_')[0] for x in tiles])"
   ]
  },
  {
   "cell_type": "code",
   "execution_count": 13,
   "metadata": {},
   "outputs": [],
   "source": [
    "filepaths = sorted(glob.glob(data_dir + '*'))"
   ]
  },
  {
   "cell_type": "code",
   "execution_count": 14,
   "metadata": {},
   "outputs": [
    {
     "name": "stdout",
     "output_type": "stream",
     "text": [
      "Opening:  ../data/train_images/tiles_level_1_overlap_0/0005f7aaab2800f6170c399693a96917_000.png\n"
     ]
    }
   ],
   "source": [
    "print('Opening: ', filepaths[0])\n",
    "img = Image.open(filepaths[0])"
   ]
  },
  {
   "cell_type": "code",
   "execution_count": 15,
   "metadata": {},
   "outputs": [],
   "source": [
    "img.show()"
   ]
  },
  {
   "cell_type": "code",
   "execution_count": 16,
   "metadata": {},
   "outputs": [
    {
     "data": {
      "text/plain": [
       "'RGB'"
      ]
     },
     "execution_count": 16,
     "metadata": {},
     "output_type": "execute_result"
    }
   ],
   "source": [
    "img.mode"
   ]
  },
  {
   "cell_type": "code",
   "execution_count": 17,
   "metadata": {},
   "outputs": [
    {
     "data": {
      "text/plain": [
       "array([0.73299968, 0.36689582, 0.6436362 ])"
      ]
     },
     "execution_count": 17,
     "metadata": {},
     "output_type": "execute_result"
    }
   ],
   "source": [
    "np.mean(np.asarray(img) / 255, axis=(0,1))"
   ]
  }
 ],
 "metadata": {
  "kernelspec": {
   "display_name": "Python 3",
   "language": "python",
   "name": "python3"
  },
  "language_info": {
   "codemirror_mode": {
    "name": "ipython",
    "version": 3
   },
   "file_extension": ".py",
   "mimetype": "text/x-python",
   "name": "python",
   "nbconvert_exporter": "python",
   "pygments_lexer": "ipython3",
   "version": "3.8.3"
  }
 },
 "nbformat": 4,
 "nbformat_minor": 4
}
